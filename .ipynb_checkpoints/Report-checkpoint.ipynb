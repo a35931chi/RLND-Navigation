{
 "cells": [
  {
   "cell_type": "markdown",
   "metadata": {},
   "source": [
    "### This report will describe the following in detail\n",
    "\n",
    "1. Learning Algorithm\n",
    "\n",
    "2. Plot of Rewards\n",
    "\n",
    "3. Ideas for Future Work"
   ]
  },
  {
   "cell_type": "markdown",
   "metadata": {},
   "source": [
    "### Learning Algo\n",
    "\n",
    "The learning algorithm is the DQN with Experience Reply, as described in the paper \"Human-level control through deep reinforcement learning\"\n",
    "\n",
    "The pseudo code is as follows:"
   ]
  },
  {
   "cell_type": "code",
   "execution_count": null,
   "metadata": {},
   "outputs": [],
   "source": [
    "Initialize replay memory D to capacity N\n",
    "Initialize action value function Q with random weights\n",
    "Initialize target action-value function Q with weights equal to those of local Q\n",
    "\n",
    "\n",
    "for i in range(n_episodes): \n",
    "    reset the environment\n",
    "    get the first state\n",
    "    \n",
    "    for j in range(max_t):\n",
    "        agent choose an action, base on the current state and epsilon\n",
    "        base on this action, environment produces feedback, which includes next_state, reward, done\n",
    "        using the environment feedback, agend does the following:\n",
    "            1. add all the environment feedback to memory\n",
    "            2. if enough sample are available in memory, then get a random subset and learn\n",
    "            3. learning means updating the target Q, compare to the local Q, do gradient descent to minimize the error\n",
    "\n",
    "        update score and state\n",
    "        for every x steps, reset target Q to local Q"
   ]
  },
  {
   "cell_type": "markdown",
   "metadata": {},
   "source": [
    "### Plot of Rewards"
   ]
  },
  {
   "cell_type": "code",
   "execution_count": null,
   "metadata": {},
   "outputs": [],
   "source": []
  },
  {
   "cell_type": "markdown",
   "metadata": {},
   "source": [
    "### Ideas for Future Work"
   ]
  },
  {
   "cell_type": "code",
   "execution_count": null,
   "metadata": {},
   "outputs": [],
   "source": []
  }
 ],
 "metadata": {
  "kernelspec": {
   "display_name": "Python 3",
   "language": "python",
   "name": "python3"
  },
  "language_info": {
   "codemirror_mode": {
    "name": "ipython",
    "version": 3
   },
   "file_extension": ".py",
   "mimetype": "text/x-python",
   "name": "python",
   "nbconvert_exporter": "python",
   "pygments_lexer": "ipython3",
   "version": "3.5.3"
  }
 },
 "nbformat": 4,
 "nbformat_minor": 2
}
